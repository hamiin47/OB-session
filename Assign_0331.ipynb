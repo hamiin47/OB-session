{
  "nbformat": 4,
  "nbformat_minor": 0,
  "metadata": {
    "colab": {
      "provenance": [],
      "mount_file_id": "1VMxicNj6rk9B9iB_4R3ohxemvK00M-Ri",
      "authorship_tag": "ABX9TyO0YbVgI3HxQcAHkkbBLF08",
      "include_colab_link": true
    },
    "kernelspec": {
      "name": "python3",
      "display_name": "Python 3"
    },
    "language_info": {
      "name": "python"
    }
  },
  "cells": [
    {
      "cell_type": "markdown",
      "metadata": {
        "id": "view-in-github",
        "colab_type": "text"
      },
      "source": [
        "<a href=\"https://colab.research.google.com/github/hamiin47/OB-session/blob/main/Assign_0331.ipynb\" target=\"_parent\"><img src=\"https://colab.research.google.com/assets/colab-badge.svg\" alt=\"Open In Colab\"/></a>"
      ]
    },
    {
      "cell_type": "markdown",
      "source": [
        "# **토픽 모델링(Topic Modeling) - 20 뉴스그룹**"
      ],
      "metadata": {
        "id": "zUP1aH1SmqFU"
      }
    },
    {
      "cell_type": "markdown",
      "source": [
        "- 토픽 모델링이랑 문서 집합에 숨어 있는 주제를 찾아내는 것이다.\n",
        "- 많은 양의 문서가 있을 때 머신러닝 기반의 토픽 모델링을 적용해 숨어 있는 중요 주제를 효과적으로 찾아낼 수 있다.\n",
        "- 사람이 수행하는 토픽 모델링은 더 함축적인 의미로 문장을 요약하는 것에 반해, 머신러닝 기반의 토픽 모델은 숨겨진 주제를 효과적으로 표현할 수 있는 중심 단어를 함축적으로 추출한다.\n",
        "\n",
        "\n",
        "---\n",
        "- 토픽 모델링에 자주 사용되는 기법은 LSA와 LDA이다.\n",
        "\n"
      ],
      "metadata": {
        "id": "RcVgEGFfmvM9"
      }
    },
    {
      "cell_type": "code",
      "source": [
        "from sklearn.datasets import fetch_20newsgroups\n",
        "from sklearn.feature_extraction.text import CountVectorizer\n",
        "from sklearn.decomposition import LatentDirichletAllocation\n",
        "\n",
        "# 모터사이클, 야구, 그래픽스, 윈도우즈, 중동, 기독교, 전자공학, 의학 8개 주제를 추출\n",
        "cats = ['rec.motorcycles', 'rec.sport.baseball', 'comp.graphics', 'comp.windows.x', 'talk.politics.mideast', 'soc.religion.christian', 'sci.electronics', 'sci.med']\n",
        "\n",
        "# 위에서 cats 변수로 기재된 카테고리만 추출.featch_20newsgroups( )의 categories 파라미터에 cats 입력\n",
        "news_df = fetch_20newsgroups(subset='all', remove=('headers', 'footers', 'quotes'),\n",
        "                             categories=cats, random_state=0)\n",
        "\n",
        "# LDA는 Count 기반의 벡터화만 적용한다.\n",
        "count_vect = CountVectorizer(max_df=0.95, max_features=1000, min_df=2, stop_words='english', ngram_range=(1,2))\n",
        "feat_vect = count_vect.fit_transform(news_df.data)\n",
        "print('CountVectorizer Shape:', feat_vect.shape)"
      ],
      "metadata": {
        "colab": {
          "base_uri": "https://localhost:8080/"
        },
        "id": "NpmBZUWZ2AGF",
        "outputId": "ec9790b7-de0e-4cbc-c6d6-595bbe86266e"
      },
      "execution_count": 1,
      "outputs": [
        {
          "output_type": "stream",
          "name": "stdout",
          "text": [
            "CountVectorizer Shape: (7862, 1000)\n"
          ]
        }
      ]
    },
    {
      "cell_type": "code",
      "source": [
        "lda = LatentDirichletAllocation(n_components=8, random_state=0)\n",
        "lda.fit(feat_vect)"
      ],
      "metadata": {
        "colab": {
          "base_uri": "https://localhost:8080/",
          "height": 80
        },
        "id": "FYcOygPy2BUt",
        "outputId": "d5e15312-94ca-46ff-f42e-655ff8d64778"
      },
      "execution_count": 2,
      "outputs": [
        {
          "output_type": "execute_result",
          "data": {
            "text/plain": [
              "LatentDirichletAllocation(n_components=8, random_state=0)"
            ],
            "text/html": [
              "<style>#sk-container-id-1 {\n",
              "  /* Definition of color scheme common for light and dark mode */\n",
              "  --sklearn-color-text: #000;\n",
              "  --sklearn-color-text-muted: #666;\n",
              "  --sklearn-color-line: gray;\n",
              "  /* Definition of color scheme for unfitted estimators */\n",
              "  --sklearn-color-unfitted-level-0: #fff5e6;\n",
              "  --sklearn-color-unfitted-level-1: #f6e4d2;\n",
              "  --sklearn-color-unfitted-level-2: #ffe0b3;\n",
              "  --sklearn-color-unfitted-level-3: chocolate;\n",
              "  /* Definition of color scheme for fitted estimators */\n",
              "  --sklearn-color-fitted-level-0: #f0f8ff;\n",
              "  --sklearn-color-fitted-level-1: #d4ebff;\n",
              "  --sklearn-color-fitted-level-2: #b3dbfd;\n",
              "  --sklearn-color-fitted-level-3: cornflowerblue;\n",
              "\n",
              "  /* Specific color for light theme */\n",
              "  --sklearn-color-text-on-default-background: var(--sg-text-color, var(--theme-code-foreground, var(--jp-content-font-color1, black)));\n",
              "  --sklearn-color-background: var(--sg-background-color, var(--theme-background, var(--jp-layout-color0, white)));\n",
              "  --sklearn-color-border-box: var(--sg-text-color, var(--theme-code-foreground, var(--jp-content-font-color1, black)));\n",
              "  --sklearn-color-icon: #696969;\n",
              "\n",
              "  @media (prefers-color-scheme: dark) {\n",
              "    /* Redefinition of color scheme for dark theme */\n",
              "    --sklearn-color-text-on-default-background: var(--sg-text-color, var(--theme-code-foreground, var(--jp-content-font-color1, white)));\n",
              "    --sklearn-color-background: var(--sg-background-color, var(--theme-background, var(--jp-layout-color0, #111)));\n",
              "    --sklearn-color-border-box: var(--sg-text-color, var(--theme-code-foreground, var(--jp-content-font-color1, white)));\n",
              "    --sklearn-color-icon: #878787;\n",
              "  }\n",
              "}\n",
              "\n",
              "#sk-container-id-1 {\n",
              "  color: var(--sklearn-color-text);\n",
              "}\n",
              "\n",
              "#sk-container-id-1 pre {\n",
              "  padding: 0;\n",
              "}\n",
              "\n",
              "#sk-container-id-1 input.sk-hidden--visually {\n",
              "  border: 0;\n",
              "  clip: rect(1px 1px 1px 1px);\n",
              "  clip: rect(1px, 1px, 1px, 1px);\n",
              "  height: 1px;\n",
              "  margin: -1px;\n",
              "  overflow: hidden;\n",
              "  padding: 0;\n",
              "  position: absolute;\n",
              "  width: 1px;\n",
              "}\n",
              "\n",
              "#sk-container-id-1 div.sk-dashed-wrapped {\n",
              "  border: 1px dashed var(--sklearn-color-line);\n",
              "  margin: 0 0.4em 0.5em 0.4em;\n",
              "  box-sizing: border-box;\n",
              "  padding-bottom: 0.4em;\n",
              "  background-color: var(--sklearn-color-background);\n",
              "}\n",
              "\n",
              "#sk-container-id-1 div.sk-container {\n",
              "  /* jupyter's `normalize.less` sets `[hidden] { display: none; }`\n",
              "     but bootstrap.min.css set `[hidden] { display: none !important; }`\n",
              "     so we also need the `!important` here to be able to override the\n",
              "     default hidden behavior on the sphinx rendered scikit-learn.org.\n",
              "     See: https://github.com/scikit-learn/scikit-learn/issues/21755 */\n",
              "  display: inline-block !important;\n",
              "  position: relative;\n",
              "}\n",
              "\n",
              "#sk-container-id-1 div.sk-text-repr-fallback {\n",
              "  display: none;\n",
              "}\n",
              "\n",
              "div.sk-parallel-item,\n",
              "div.sk-serial,\n",
              "div.sk-item {\n",
              "  /* draw centered vertical line to link estimators */\n",
              "  background-image: linear-gradient(var(--sklearn-color-text-on-default-background), var(--sklearn-color-text-on-default-background));\n",
              "  background-size: 2px 100%;\n",
              "  background-repeat: no-repeat;\n",
              "  background-position: center center;\n",
              "}\n",
              "\n",
              "/* Parallel-specific style estimator block */\n",
              "\n",
              "#sk-container-id-1 div.sk-parallel-item::after {\n",
              "  content: \"\";\n",
              "  width: 100%;\n",
              "  border-bottom: 2px solid var(--sklearn-color-text-on-default-background);\n",
              "  flex-grow: 1;\n",
              "}\n",
              "\n",
              "#sk-container-id-1 div.sk-parallel {\n",
              "  display: flex;\n",
              "  align-items: stretch;\n",
              "  justify-content: center;\n",
              "  background-color: var(--sklearn-color-background);\n",
              "  position: relative;\n",
              "}\n",
              "\n",
              "#sk-container-id-1 div.sk-parallel-item {\n",
              "  display: flex;\n",
              "  flex-direction: column;\n",
              "}\n",
              "\n",
              "#sk-container-id-1 div.sk-parallel-item:first-child::after {\n",
              "  align-self: flex-end;\n",
              "  width: 50%;\n",
              "}\n",
              "\n",
              "#sk-container-id-1 div.sk-parallel-item:last-child::after {\n",
              "  align-self: flex-start;\n",
              "  width: 50%;\n",
              "}\n",
              "\n",
              "#sk-container-id-1 div.sk-parallel-item:only-child::after {\n",
              "  width: 0;\n",
              "}\n",
              "\n",
              "/* Serial-specific style estimator block */\n",
              "\n",
              "#sk-container-id-1 div.sk-serial {\n",
              "  display: flex;\n",
              "  flex-direction: column;\n",
              "  align-items: center;\n",
              "  background-color: var(--sklearn-color-background);\n",
              "  padding-right: 1em;\n",
              "  padding-left: 1em;\n",
              "}\n",
              "\n",
              "\n",
              "/* Toggleable style: style used for estimator/Pipeline/ColumnTransformer box that is\n",
              "clickable and can be expanded/collapsed.\n",
              "- Pipeline and ColumnTransformer use this feature and define the default style\n",
              "- Estimators will overwrite some part of the style using the `sk-estimator` class\n",
              "*/\n",
              "\n",
              "/* Pipeline and ColumnTransformer style (default) */\n",
              "\n",
              "#sk-container-id-1 div.sk-toggleable {\n",
              "  /* Default theme specific background. It is overwritten whether we have a\n",
              "  specific estimator or a Pipeline/ColumnTransformer */\n",
              "  background-color: var(--sklearn-color-background);\n",
              "}\n",
              "\n",
              "/* Toggleable label */\n",
              "#sk-container-id-1 label.sk-toggleable__label {\n",
              "  cursor: pointer;\n",
              "  display: flex;\n",
              "  width: 100%;\n",
              "  margin-bottom: 0;\n",
              "  padding: 0.5em;\n",
              "  box-sizing: border-box;\n",
              "  text-align: center;\n",
              "  align-items: start;\n",
              "  justify-content: space-between;\n",
              "  gap: 0.5em;\n",
              "}\n",
              "\n",
              "#sk-container-id-1 label.sk-toggleable__label .caption {\n",
              "  font-size: 0.6rem;\n",
              "  font-weight: lighter;\n",
              "  color: var(--sklearn-color-text-muted);\n",
              "}\n",
              "\n",
              "#sk-container-id-1 label.sk-toggleable__label-arrow:before {\n",
              "  /* Arrow on the left of the label */\n",
              "  content: \"▸\";\n",
              "  float: left;\n",
              "  margin-right: 0.25em;\n",
              "  color: var(--sklearn-color-icon);\n",
              "}\n",
              "\n",
              "#sk-container-id-1 label.sk-toggleable__label-arrow:hover:before {\n",
              "  color: var(--sklearn-color-text);\n",
              "}\n",
              "\n",
              "/* Toggleable content - dropdown */\n",
              "\n",
              "#sk-container-id-1 div.sk-toggleable__content {\n",
              "  max-height: 0;\n",
              "  max-width: 0;\n",
              "  overflow: hidden;\n",
              "  text-align: left;\n",
              "  /* unfitted */\n",
              "  background-color: var(--sklearn-color-unfitted-level-0);\n",
              "}\n",
              "\n",
              "#sk-container-id-1 div.sk-toggleable__content.fitted {\n",
              "  /* fitted */\n",
              "  background-color: var(--sklearn-color-fitted-level-0);\n",
              "}\n",
              "\n",
              "#sk-container-id-1 div.sk-toggleable__content pre {\n",
              "  margin: 0.2em;\n",
              "  border-radius: 0.25em;\n",
              "  color: var(--sklearn-color-text);\n",
              "  /* unfitted */\n",
              "  background-color: var(--sklearn-color-unfitted-level-0);\n",
              "}\n",
              "\n",
              "#sk-container-id-1 div.sk-toggleable__content.fitted pre {\n",
              "  /* unfitted */\n",
              "  background-color: var(--sklearn-color-fitted-level-0);\n",
              "}\n",
              "\n",
              "#sk-container-id-1 input.sk-toggleable__control:checked~div.sk-toggleable__content {\n",
              "  /* Expand drop-down */\n",
              "  max-height: 200px;\n",
              "  max-width: 100%;\n",
              "  overflow: auto;\n",
              "}\n",
              "\n",
              "#sk-container-id-1 input.sk-toggleable__control:checked~label.sk-toggleable__label-arrow:before {\n",
              "  content: \"▾\";\n",
              "}\n",
              "\n",
              "/* Pipeline/ColumnTransformer-specific style */\n",
              "\n",
              "#sk-container-id-1 div.sk-label input.sk-toggleable__control:checked~label.sk-toggleable__label {\n",
              "  color: var(--sklearn-color-text);\n",
              "  background-color: var(--sklearn-color-unfitted-level-2);\n",
              "}\n",
              "\n",
              "#sk-container-id-1 div.sk-label.fitted input.sk-toggleable__control:checked~label.sk-toggleable__label {\n",
              "  background-color: var(--sklearn-color-fitted-level-2);\n",
              "}\n",
              "\n",
              "/* Estimator-specific style */\n",
              "\n",
              "/* Colorize estimator box */\n",
              "#sk-container-id-1 div.sk-estimator input.sk-toggleable__control:checked~label.sk-toggleable__label {\n",
              "  /* unfitted */\n",
              "  background-color: var(--sklearn-color-unfitted-level-2);\n",
              "}\n",
              "\n",
              "#sk-container-id-1 div.sk-estimator.fitted input.sk-toggleable__control:checked~label.sk-toggleable__label {\n",
              "  /* fitted */\n",
              "  background-color: var(--sklearn-color-fitted-level-2);\n",
              "}\n",
              "\n",
              "#sk-container-id-1 div.sk-label label.sk-toggleable__label,\n",
              "#sk-container-id-1 div.sk-label label {\n",
              "  /* The background is the default theme color */\n",
              "  color: var(--sklearn-color-text-on-default-background);\n",
              "}\n",
              "\n",
              "/* On hover, darken the color of the background */\n",
              "#sk-container-id-1 div.sk-label:hover label.sk-toggleable__label {\n",
              "  color: var(--sklearn-color-text);\n",
              "  background-color: var(--sklearn-color-unfitted-level-2);\n",
              "}\n",
              "\n",
              "/* Label box, darken color on hover, fitted */\n",
              "#sk-container-id-1 div.sk-label.fitted:hover label.sk-toggleable__label.fitted {\n",
              "  color: var(--sklearn-color-text);\n",
              "  background-color: var(--sklearn-color-fitted-level-2);\n",
              "}\n",
              "\n",
              "/* Estimator label */\n",
              "\n",
              "#sk-container-id-1 div.sk-label label {\n",
              "  font-family: monospace;\n",
              "  font-weight: bold;\n",
              "  display: inline-block;\n",
              "  line-height: 1.2em;\n",
              "}\n",
              "\n",
              "#sk-container-id-1 div.sk-label-container {\n",
              "  text-align: center;\n",
              "}\n",
              "\n",
              "/* Estimator-specific */\n",
              "#sk-container-id-1 div.sk-estimator {\n",
              "  font-family: monospace;\n",
              "  border: 1px dotted var(--sklearn-color-border-box);\n",
              "  border-radius: 0.25em;\n",
              "  box-sizing: border-box;\n",
              "  margin-bottom: 0.5em;\n",
              "  /* unfitted */\n",
              "  background-color: var(--sklearn-color-unfitted-level-0);\n",
              "}\n",
              "\n",
              "#sk-container-id-1 div.sk-estimator.fitted {\n",
              "  /* fitted */\n",
              "  background-color: var(--sklearn-color-fitted-level-0);\n",
              "}\n",
              "\n",
              "/* on hover */\n",
              "#sk-container-id-1 div.sk-estimator:hover {\n",
              "  /* unfitted */\n",
              "  background-color: var(--sklearn-color-unfitted-level-2);\n",
              "}\n",
              "\n",
              "#sk-container-id-1 div.sk-estimator.fitted:hover {\n",
              "  /* fitted */\n",
              "  background-color: var(--sklearn-color-fitted-level-2);\n",
              "}\n",
              "\n",
              "/* Specification for estimator info (e.g. \"i\" and \"?\") */\n",
              "\n",
              "/* Common style for \"i\" and \"?\" */\n",
              "\n",
              ".sk-estimator-doc-link,\n",
              "a:link.sk-estimator-doc-link,\n",
              "a:visited.sk-estimator-doc-link {\n",
              "  float: right;\n",
              "  font-size: smaller;\n",
              "  line-height: 1em;\n",
              "  font-family: monospace;\n",
              "  background-color: var(--sklearn-color-background);\n",
              "  border-radius: 1em;\n",
              "  height: 1em;\n",
              "  width: 1em;\n",
              "  text-decoration: none !important;\n",
              "  margin-left: 0.5em;\n",
              "  text-align: center;\n",
              "  /* unfitted */\n",
              "  border: var(--sklearn-color-unfitted-level-1) 1pt solid;\n",
              "  color: var(--sklearn-color-unfitted-level-1);\n",
              "}\n",
              "\n",
              ".sk-estimator-doc-link.fitted,\n",
              "a:link.sk-estimator-doc-link.fitted,\n",
              "a:visited.sk-estimator-doc-link.fitted {\n",
              "  /* fitted */\n",
              "  border: var(--sklearn-color-fitted-level-1) 1pt solid;\n",
              "  color: var(--sklearn-color-fitted-level-1);\n",
              "}\n",
              "\n",
              "/* On hover */\n",
              "div.sk-estimator:hover .sk-estimator-doc-link:hover,\n",
              ".sk-estimator-doc-link:hover,\n",
              "div.sk-label-container:hover .sk-estimator-doc-link:hover,\n",
              ".sk-estimator-doc-link:hover {\n",
              "  /* unfitted */\n",
              "  background-color: var(--sklearn-color-unfitted-level-3);\n",
              "  color: var(--sklearn-color-background);\n",
              "  text-decoration: none;\n",
              "}\n",
              "\n",
              "div.sk-estimator.fitted:hover .sk-estimator-doc-link.fitted:hover,\n",
              ".sk-estimator-doc-link.fitted:hover,\n",
              "div.sk-label-container:hover .sk-estimator-doc-link.fitted:hover,\n",
              ".sk-estimator-doc-link.fitted:hover {\n",
              "  /* fitted */\n",
              "  background-color: var(--sklearn-color-fitted-level-3);\n",
              "  color: var(--sklearn-color-background);\n",
              "  text-decoration: none;\n",
              "}\n",
              "\n",
              "/* Span, style for the box shown on hovering the info icon */\n",
              ".sk-estimator-doc-link span {\n",
              "  display: none;\n",
              "  z-index: 9999;\n",
              "  position: relative;\n",
              "  font-weight: normal;\n",
              "  right: .2ex;\n",
              "  padding: .5ex;\n",
              "  margin: .5ex;\n",
              "  width: min-content;\n",
              "  min-width: 20ex;\n",
              "  max-width: 50ex;\n",
              "  color: var(--sklearn-color-text);\n",
              "  box-shadow: 2pt 2pt 4pt #999;\n",
              "  /* unfitted */\n",
              "  background: var(--sklearn-color-unfitted-level-0);\n",
              "  border: .5pt solid var(--sklearn-color-unfitted-level-3);\n",
              "}\n",
              "\n",
              ".sk-estimator-doc-link.fitted span {\n",
              "  /* fitted */\n",
              "  background: var(--sklearn-color-fitted-level-0);\n",
              "  border: var(--sklearn-color-fitted-level-3);\n",
              "}\n",
              "\n",
              ".sk-estimator-doc-link:hover span {\n",
              "  display: block;\n",
              "}\n",
              "\n",
              "/* \"?\"-specific style due to the `<a>` HTML tag */\n",
              "\n",
              "#sk-container-id-1 a.estimator_doc_link {\n",
              "  float: right;\n",
              "  font-size: 1rem;\n",
              "  line-height: 1em;\n",
              "  font-family: monospace;\n",
              "  background-color: var(--sklearn-color-background);\n",
              "  border-radius: 1rem;\n",
              "  height: 1rem;\n",
              "  width: 1rem;\n",
              "  text-decoration: none;\n",
              "  /* unfitted */\n",
              "  color: var(--sklearn-color-unfitted-level-1);\n",
              "  border: var(--sklearn-color-unfitted-level-1) 1pt solid;\n",
              "}\n",
              "\n",
              "#sk-container-id-1 a.estimator_doc_link.fitted {\n",
              "  /* fitted */\n",
              "  border: var(--sklearn-color-fitted-level-1) 1pt solid;\n",
              "  color: var(--sklearn-color-fitted-level-1);\n",
              "}\n",
              "\n",
              "/* On hover */\n",
              "#sk-container-id-1 a.estimator_doc_link:hover {\n",
              "  /* unfitted */\n",
              "  background-color: var(--sklearn-color-unfitted-level-3);\n",
              "  color: var(--sklearn-color-background);\n",
              "  text-decoration: none;\n",
              "}\n",
              "\n",
              "#sk-container-id-1 a.estimator_doc_link.fitted:hover {\n",
              "  /* fitted */\n",
              "  background-color: var(--sklearn-color-fitted-level-3);\n",
              "}\n",
              "</style><div id=\"sk-container-id-1\" class=\"sk-top-container\"><div class=\"sk-text-repr-fallback\"><pre>LatentDirichletAllocation(n_components=8, random_state=0)</pre><b>In a Jupyter environment, please rerun this cell to show the HTML representation or trust the notebook. <br />On GitHub, the HTML representation is unable to render, please try loading this page with nbviewer.org.</b></div><div class=\"sk-container\" hidden><div class=\"sk-item\"><div class=\"sk-estimator fitted sk-toggleable\"><input class=\"sk-toggleable__control sk-hidden--visually\" id=\"sk-estimator-id-1\" type=\"checkbox\" checked><label for=\"sk-estimator-id-1\" class=\"sk-toggleable__label fitted sk-toggleable__label-arrow\"><div><div>LatentDirichletAllocation</div></div><div><a class=\"sk-estimator-doc-link fitted\" rel=\"noreferrer\" target=\"_blank\" href=\"https://scikit-learn.org/1.6/modules/generated/sklearn.decomposition.LatentDirichletAllocation.html\">?<span>Documentation for LatentDirichletAllocation</span></a><span class=\"sk-estimator-doc-link fitted\">i<span>Fitted</span></span></div></label><div class=\"sk-toggleable__content fitted\"><pre>LatentDirichletAllocation(n_components=8, random_state=0)</pre></div> </div></div></div></div>"
            ]
          },
          "metadata": {},
          "execution_count": 2
        }
      ]
    },
    {
      "cell_type": "code",
      "source": [
        "print(lda.components_.shape)\n",
        "lda.components_"
      ],
      "metadata": {
        "colab": {
          "base_uri": "https://localhost:8080/"
        },
        "id": "rdNGwCjN2CnI",
        "outputId": "ddfcfb11-0d66-45fe-c8f5-a309bcb2130f"
      },
      "execution_count": 3,
      "outputs": [
        {
          "output_type": "stream",
          "name": "stdout",
          "text": [
            "(8, 1000)\n"
          ]
        },
        {
          "output_type": "execute_result",
          "data": {
            "text/plain": [
              "array([[2.69030238e+02, 1.87798026e+02, 7.09003824e+01, ...,\n",
              "        1.22710343e+01, 1.06329639e+02, 7.25995512e+01],\n",
              "       [1.25091799e-01, 2.46049106e+00, 1.25051902e-01, ...,\n",
              "        2.80071176e+02, 1.25089783e-01, 5.05669662e+01],\n",
              "       [1.33978420e+02, 1.25042012e-01, 9.98277256e+01, ...,\n",
              "        1.25092219e-01, 3.31078261e+01, 1.25028398e-01],\n",
              "       ...,\n",
              "       [2.98813886e+01, 1.88071366e+01, 1.14748730e+01, ...,\n",
              "        1.93022584e+01, 5.29368271e+00, 1.44478198e+01],\n",
              "       [1.25074899e-01, 1.25105300e-01, 1.25004235e-01, ...,\n",
              "        1.03576436e+02, 1.25100535e-01, 7.22276359e+01],\n",
              "       [1.25172284e-01, 1.03967760e+00, 1.25221075e-01, ...,\n",
              "        5.31740996e+01, 1.25025929e-01, 1.25062991e-01]])"
            ]
          },
          "metadata": {},
          "execution_count": 3
        }
      ]
    },
    {
      "cell_type": "code",
      "source": [
        "# lda_model.components_ 값만으로는 각 토픽별 word 연관도를 보기가 어려움\n",
        "# display_topics( ) 함수 -> 각 토픽별로 연관도가 높은 순으로 Word 나열\n",
        "\n",
        "def display_topics(model, feature_names, no_top_words):\n",
        "    for topic_index, topic in enumerate(model.components_):\n",
        "        print('Topic #', topic_index)\n",
        "\n",
        "        # components_array에서 가장 값이 큰 순으로 정렬했을 때, 그 값의 array 인덱스를 반환.\n",
        "        topic_word_indexes = topic.argsort()[::-1]\n",
        "        top_indexes = topic_word_indexes[:no_top_words]\n",
        "\n",
        "        # top_indexes대상인 인덱스별로 feature_names에 해당하는 word feature 추출 후 join으로 concat\n",
        "        feature_concat = ' '.join([feature_names[i] for i in top_indexes])\n",
        "        print(feature_concat)\n",
        "\n",
        "# CountVectorizer 객체 내의 전체 word의 명칭을 get_features_names( )를 통해 추출\n",
        "feature_names = count_vect.get_feature_names_out()\n",
        "\n",
        "# Topic별 가장 연관도가 높은 word를 15개만 추출\n",
        "display_topics(lda, feature_names, 15)"
      ],
      "metadata": {
        "colab": {
          "base_uri": "https://localhost:8080/"
        },
        "id": "YxqZ-WXs2EMn",
        "outputId": "c347ec4c-b1ee-4ee3-d619-7c17a9959ce8"
      },
      "execution_count": 4,
      "outputs": [
        {
          "output_type": "stream",
          "name": "stdout",
          "text": [
            "Topic # 0\n",
            "10 year medical health 1993 20 12 disease cancer team patients research number new 11\n",
            "Topic # 1\n",
            "don just like know think good time ve does way really people want ll right\n",
            "Topic # 2\n",
            "image file jpeg output program gif images format files color entry use bit 03 02\n",
            "Topic # 3\n",
            "armenian armenians turkish people said turkey armenia government genocide turks muslim russian greek azerbaijan killed\n",
            "Topic # 4\n",
            "israel jews dos jewish israeli dos dos arab state people arabs palestinian adl ed anti peace\n",
            "Topic # 5\n",
            "edu com available graphics ftp window use mail data motif software version pub information server\n",
            "Topic # 6\n",
            "god people jesus church believe say christ does christian think christians did know bible man\n",
            "Topic # 7\n",
            "thanks use using does help like display need problem know server screen windows window program\n"
          ]
        }
      ]
    },
    {
      "cell_type": "markdown",
      "source": [
        "# **문서 유사도**"
      ],
      "metadata": {
        "id": "f9GolTlq9fEF"
      }
    },
    {
      "cell_type": "markdown",
      "source": [
        "**문서 유사도 측정 방법 - 코사인 유사도**\n",
        "- 코사인 유사도는 벡터와 벡터 간의 유사도를 비교할 때 벡터의 크기보다는 벡터의 상호 방향성이 얼마나 유사한지에 기반한다.\n",
        "- 즉. 코사인 유사도는 두 벡터 사이의 사잇각을 구해서 얼마나 유사한지 수치로 적용한 것이다.\n",
        "\n",
        "![image.png](data:image/png;base64,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)\n",
        "\n",
        "---\n",
        "\n"
      ],
      "metadata": {
        "id": "4f1HsViD9or9"
      }
    },
    {
      "cell_type": "markdown",
      "source": [
        "**두 벡터 사잇각**\n",
        "- 유사도 코사인은 다음과 같이 두 벡터의 내적을 총 벡터 크기의 합으로 나눈 것이다.\n",
        "![image.png](data:image/png;base64,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)\n",
        "- 코사인 유사도가 문서의 유사도 비교에 가장 많이 사용되는 이유는 먼저 문서를 피처 벡터화 변환하면 차원이 매우 많은 최소 행렬이 되기 쉽다.\n",
        "- 희소 행렬 기반에서 문서와 문서 벡터 간의 크기에 기반한 유사도 지표는 정확도가 떨어지기 쉽다.\n"
      ],
      "metadata": {
        "id": "ybFK1vzt97Jm"
      }
    },
    {
      "cell_type": "code",
      "execution_count": 5,
      "metadata": {
        "id": "w-9CD1JHuVSF"
      },
      "outputs": [],
      "source": [
        "import numpy as np\n",
        "\n",
        "def cos_similarity(v1, v2):\n",
        "    dot_product = np.dot(v1, v2)\n",
        "    l2_norm = (np.sqrt(sum(np.square(v1))) * np.sqrt(sum(np.square(v2))))\n",
        "    similarity = dot_product / l2_norm\n",
        "\n",
        "    return similarity"
      ]
    },
    {
      "cell_type": "markdown",
      "source": [
        "TF-IDF로 벡터화된 행렬로 변환"
      ],
      "metadata": {
        "id": "ek-LiMjLnwYL"
      }
    },
    {
      "cell_type": "code",
      "source": [
        "from sklearn.feature_extraction.text import TfidfVectorizer\n",
        "\n",
        "doc_list = ['if you take the blue pill, the story ends',\n",
        "            'if you take the red pill, you stay in wonderland',\n",
        "            'if you take the red pill, I show you how deep the rabbit hole goes']\n",
        "\n",
        "tfidf_vect_simple = TfidfVectorizer()\n",
        "feature_vect_simple = tfidf_vect_simple.fit_transform(doc_list)\n",
        "print(feature_vect_simple.shape)"
      ],
      "metadata": {
        "colab": {
          "base_uri": "https://localhost:8080/"
        },
        "id": "X8SNIRbVT73S",
        "outputId": "bccb498a-a5b4-4f09-fd2a-f84c7456b4f4"
      },
      "execution_count": 6,
      "outputs": [
        {
          "output_type": "stream",
          "name": "stdout",
          "text": [
            "(3, 18)\n"
          ]
        }
      ]
    },
    {
      "cell_type": "code",
      "source": [
        "# TFidfVectorizer로 transform()한 결과는 희소 행렬이므로 밀집 행렬로 변환.\n",
        "feature_vect_dense = feature_vect_simple.todense()\n",
        "\n",
        "# 첫 번째 문장과 두 번째 문장의 피처 벡터 추출\n",
        "vect1 = np.array(feature_vect_dense[0]).reshape(-1, )\n",
        "vect2 = np.array(feature_vect_dense[1]).reshape(-1, )\n",
        "\n",
        "# 첫 번째 문장과 두 번째 문장의 피처 벡터로 두 개 문장의 코사인 유사도 추출\n",
        "similarity_simple = cos_similarity(vect1, vect2)\n",
        "print('문장 1, 문장 2 Cosine 유사도: {0:.3f}'.format(similarity_simple))"
      ],
      "metadata": {
        "colab": {
          "base_uri": "https://localhost:8080/"
        },
        "id": "Kp5WbEti2J7Q",
        "outputId": "b6986ead-68b6-4d13-ded9-71833ab78b3e"
      },
      "execution_count": 7,
      "outputs": [
        {
          "output_type": "stream",
          "name": "stdout",
          "text": [
            "문장 1, 문장 2 Cosine 유사도: 0.402\n"
          ]
        }
      ]
    },
    {
      "cell_type": "code",
      "source": [
        "vect1 = np.array(feature_vect_dense[0]).reshape(-1, )\n",
        "vect3 = np.array(feature_vect_dense[2]).reshape(-1, )\n",
        "similarity_simple = cos_similarity(vect1, vect3)\n",
        "print('문장 1, 문장 3 Cosine 유사도: {0:.3f}'.format(similarity_simple))\n",
        "\n",
        "vect2 = np.array(feature_vect_dense[1]).reshape(-1, )\n",
        "vect3 = np.array(feature_vect_dense[2]).reshape(-1, )\n",
        "similarity_simple = cos_similarity(vect2, vect3)\n",
        "print('문장 2, 문장 3 Cosine 유사도: {0:.3f}'.format(similarity_simple))"
      ],
      "metadata": {
        "colab": {
          "base_uri": "https://localhost:8080/"
        },
        "id": "WIPFsgb22K8D",
        "outputId": "b340734e-517f-49a9-f2c6-768aa6654633"
      },
      "execution_count": 8,
      "outputs": [
        {
          "output_type": "stream",
          "name": "stdout",
          "text": [
            "문장 1, 문장 3 Cosine 유사도: 0.404\n",
            "문장 2, 문장 3 Cosine 유사도: 0.456\n"
          ]
        }
      ]
    },
    {
      "cell_type": "markdown",
      "source": [
        "cosine_similarity() 함수는 두 개의 입력 파라미터를 받으며 첫번째 파라미터는 비교 기준이 되는 문서의 피처 행렬, 두번째 파라미터는 비교되는 문서의 피처 행렬이다."
      ],
      "metadata": {
        "id": "p0B0u0iQn-m1"
      }
    },
    {
      "cell_type": "code",
      "source": [
        "from sklearn.metrics.pairwise import cosine_similarity\n",
        "\n",
        "similarity_simple_pair = cosine_similarity(feature_vect_simple[0], feature_vect_simple)\n",
        "print(similarity_simple_pair)"
      ],
      "metadata": {
        "colab": {
          "base_uri": "https://localhost:8080/"
        },
        "id": "oJ3k-73e2OXT",
        "outputId": "1ee56b2c-69e0-4e42-b9d5-1055aebe6b85"
      },
      "execution_count": 9,
      "outputs": [
        {
          "output_type": "stream",
          "name": "stdout",
          "text": [
            "[[1.         0.40207758 0.40425045]]\n"
          ]
        }
      ]
    },
    {
      "cell_type": "code",
      "source": [
        "from sklearn.metrics.pairwise import cosine_similarity\n",
        "\n",
        "similarity_simple_pair = cosine_similarity(feature_vect_simple[0], feature_vect_simple[1:])\n",
        "print(similarity_simple_pair)"
      ],
      "metadata": {
        "colab": {
          "base_uri": "https://localhost:8080/"
        },
        "id": "hX4VB0V92PTk",
        "outputId": "1147a9e0-8970-4675-b94c-b2c13379e64f"
      },
      "execution_count": 10,
      "outputs": [
        {
          "output_type": "stream",
          "name": "stdout",
          "text": [
            "[[0.40207758 0.40425045]]\n"
          ]
        }
      ]
    },
    {
      "cell_type": "code",
      "source": [
        "similarity_simple_pair = cosine_similarity(feature_vect_simple, feature_vect_simple)\n",
        "print(similarity_simple_pair)\n",
        "print('shape:', similarity_simple_pair.shape)"
      ],
      "metadata": {
        "colab": {
          "base_uri": "https://localhost:8080/"
        },
        "id": "CqqR5Vwg2RQP",
        "outputId": "c6cd6c92-a1b0-46a6-e93c-7fffebb6c95e"
      },
      "execution_count": 11,
      "outputs": [
        {
          "output_type": "stream",
          "name": "stdout",
          "text": [
            "[[1.         0.40207758 0.40425045]\n",
            " [0.40207758 1.         0.45647296]\n",
            " [0.40425045 0.45647296 1.        ]]\n",
            "shape: (3, 3)\n"
          ]
        }
      ]
    },
    {
      "cell_type": "markdown",
      "source": [
        "**Opinion Review 데이터 세트를 이용한 문서 유사도 측정**"
      ],
      "metadata": {
        "id": "40e-8OgYoUdB"
      }
    },
    {
      "cell_type": "code",
      "source": [
        "import pandas as pd\n",
        "import glob, os\n",
        "import nltk\n",
        "from nltk.tokenize import word_tokenize\n",
        "from nltk.stem import WordNetLemmatizer\n",
        "from sklearn.feature_extraction.text import TfidfVectorizer\n",
        "from sklearn.cluster import KMeans\n",
        "\n",
        "from google.colab import drive\n",
        "drive.mount('/content/drive')\n",
        "\n",
        "nltk.download('punkt')\n",
        "nltk.download('wordnet')\n",
        "\n",
        "path = r'/content/drive/MyDrive/ESAA/OB/csv/topics'\n",
        "all_files = glob.glob(os.path.join(path, \"*.data\"))\n",
        "filename_list = []\n",
        "opinion_text = []\n",
        "\n",
        "for file_ in all_files:\n",
        "    df = pd.read_table(file_, index_col=None, header=0, encoding='latin1')\n",
        "    filename_ = file_.split('/')[-1]\n",
        "    filename = filename_.split('.')[0]\n",
        "    filename_list.append(filename)\n",
        "    opinion_text.append(df.to_string())\n",
        "\n",
        "document_df = pd.DataFrame({'filename': filename_list, 'opinion_text': opinion_text})\n",
        "\n",
        "tfidf_vect = TfidfVectorizer(tokenizer=None, preprocessor=None,\n",
        "                             ngram_range=(1,2), min_df=0.01, max_df=0.85)\n",
        "feature_vect = tfidf_vect.fit_transform(document_df['opinion_text'])\n",
        "\n",
        "km_cluster = KMeans(n_clusters=3, max_iter=10000, random_state=0, n_init='auto')\n",
        "km_cluster.fit(feature_vect)\n",
        "cluster_label = km_cluster.labels_\n",
        "cluster_centers = km_cluster.cluster_centers_\n",
        "document_df['cluster_label'] = cluster_label"
      ],
      "metadata": {
        "colab": {
          "base_uri": "https://localhost:8080/"
        },
        "id": "8Txmc7p_2Slu",
        "outputId": "c2ad4247-c4fb-4b9b-f1cc-76b7afc03db3"
      },
      "execution_count": 16,
      "outputs": [
        {
          "output_type": "stream",
          "name": "stdout",
          "text": [
            "Drive already mounted at /content/drive; to attempt to forcibly remount, call drive.mount(\"/content/drive\", force_remount=True).\n"
          ]
        },
        {
          "output_type": "stream",
          "name": "stderr",
          "text": [
            "[nltk_data] Downloading package punkt to /root/nltk_data...\n",
            "[nltk_data]   Package punkt is already up-to-date!\n",
            "[nltk_data] Downloading package wordnet to /root/nltk_data...\n",
            "[nltk_data]   Package wordnet is already up-to-date!\n"
          ]
        }
      ]
    },
    {
      "cell_type": "markdown",
      "source": [
        "피처 벡터화된 데이터를 cosine_simularity()를 이용해 상호 비교해 유사도를 확인한다."
      ],
      "metadata": {
        "id": "ID_oeqOAqAs6"
      }
    },
    {
      "cell_type": "code",
      "source": [
        "from sklearn.metrics.pairwise import cosine_similarity\n",
        "\n",
        "# cluster_label=2인 데이터는 호텔로 군집화된 데이터임. DataFrame에서 해당 인덱스를 추출\n",
        "hotel_indexes = document_df[document_df['cluster_label'] == 2].index\n",
        "print('호텔로 클러스터링된 문서들의 Dataframe Index',hotel_indexes)\n",
        "\n",
        "# 호텔로 군집화된 데이터 중 첫 번째 문서를 추출해 파일명 표시.\n",
        "comparison_docname = document_df.iloc[hotel_indexes[0]]['filename']\n",
        "print('#### 비교 기준 문서명:', comparison_docname, '와 타 문서 유사도 ####')\n",
        "\n",
        "''' document_df에서 추출한 Index 객체를 feature_vect로 입력해 호텔 군집화된 feature_vect 추출\n",
        "이를 이용해 호텔로 군집화된 문서 중 첫 번째 문서와 다른 문서 간의 코사인 유사도 측정.'''\n",
        "\n",
        "similarity_pair = cosine_similarity(feature_vect[hotel_indexes[0]], feature_vect[hotel_indexes])\n",
        "print(similarity_pair)"
      ],
      "metadata": {
        "colab": {
          "base_uri": "https://localhost:8080/"
        },
        "id": "Aauee6sF2VV1",
        "outputId": "979df766-117e-483c-ea90-b52937eceae3"
      },
      "execution_count": 17,
      "outputs": [
        {
          "output_type": "stream",
          "name": "stdout",
          "text": [
            "호텔로 클러스터링된 문서들의 Dataframe Index Index([0, 2, 3, 5, 9, 16, 17, 18, 19, 20, 23, 24, 25, 26, 38, 39], dtype='int64')\n",
            "#### 비교 기준 문서명: accuracy_garmin_nuvi_255W_gps 와 타 문서 유사도 ####\n",
            "[[1.         0.03796721 0.03075421 0.04957575 0.02412058 0.02415624\n",
            "  0.03149679 0.03282245 0.12890385 0.2868615  0.02741033 0.03340888\n",
            "  0.11810632 0.08141087 0.03936884 0.03345517]]\n"
          ]
        }
      ]
    },
    {
      "cell_type": "code",
      "source": [
        "import seaborn as sns\n",
        "import numpy as np\n",
        "import matplotlib.pyplot as plt\n",
        "%matplotlib inline\n",
        "\n",
        "# 첫번째 문서와 타 문서간 유사도가 큰 순으로 정렬한 인덱스 추출하되 자기 자신은 제외\n",
        "sorted_index = similarity_pair.argsort()[:,::-1]\n",
        "sorted_index = sorted_index[:, 1:]\n",
        "\n",
        "# 유사도가 큰 순으로 hotel_indexes를 추출하여 재정렬\n",
        "hotel_sorted_indexes = hotel_indexes[sorted_index.reshape(-1)]\n",
        "\n",
        "# 유사도가 큰 순으로 유사도 값을 재정렬하되 자기 자신은 제외\n",
        "hotel_1_sim_value = np.sort(similarity_pair.reshape(-1))[::-1]\n",
        "hotel_1_sim_value = hotel_1_sim_value[1:]\n",
        "\n",
        "# 유사도가 큰 순으로 정렬된 인덱스와 유사도 값을 이용해 파일명과 유사도값을 막대 그래프로 시각화\n",
        "hotel_1_sim_df = pd.DataFrame()\n",
        "hotel_1_sim_df['filename'] = document_df.iloc[hotel_sorted_indexes]['filename']\n",
        "hotel_1_sim_df['similarity'] = hotel_1_sim_value\n",
        "print('가장 유사도가 큰 파일명 및 유사도:\\n', hotel_1_sim_df.iloc[0,:])\n",
        "\n",
        "sns.barplot(x='similarity', y='filename', data=hotel_1_sim_df)\n",
        "plt.title(comparison_docname)"
      ],
      "metadata": {
        "colab": {
          "base_uri": "https://localhost:8080/",
          "height": 559
        },
        "id": "8rL5ALNO2Y__",
        "outputId": "d60d4fe0-84d7-4475-d3aa-deba89a9320c"
      },
      "execution_count": 18,
      "outputs": [
        {
          "output_type": "stream",
          "name": "stdout",
          "text": [
            "가장 유사도가 큰 파일명 및 유사도:\n",
            " filename      directions_garmin_nuvi_255W_gps\n",
            "similarity                           0.286861\n",
            "Name: 20, dtype: object\n"
          ]
        },
        {
          "output_type": "execute_result",
          "data": {
            "text/plain": [
              "Text(0.5, 1.0, 'accuracy_garmin_nuvi_255W_gps')"
            ]
          },
          "metadata": {},
          "execution_count": 18
        },
        {
          "output_type": "display_data",
          "data": {
            "text/plain": [
              "<Figure size 640x480 with 1 Axes>"
            ],
            "image/png": "[encoded data removed]"
          },
          "metadata": {}
        }
      ]
    },
    {
      "cell_type": "markdown",
      "source": [
        "# **09. 한글 텍스트 처리 - 네이버 영화 평점 감성 분석**"
      ],
      "metadata": {
        "id": "_TUzQ5YcqQ4v"
      }
    },
    {
      "cell_type": "markdown",
      "source": [
        "**한글 NLP 처리의 어려움**\n",
        "- 띄어쓰기와 다양한 조사 때문에 영어 등의 라틴어 처리보다 어렵다."
      ],
      "metadata": {
        "id": "83jcvSvfqWhN"
      }
    },
    {
      "cell_type": "markdown",
      "source": [
        "**KoNLPy 소개**\n",
        "- KoNLPy는 파이썬의 대표적인 한글 형태소 패키지이다.\n",
        "- 형태소 분석이란 말뭉치를 이러한 형태소 어근 단위로 쪼개고 각 형태소에 품사 태깅을 부착하는 작업을 지칭한다."
      ],
      "metadata": {
        "id": "LnnyOqg2qgBj"
      }
    },
    {
      "cell_type": "code",
      "source": [
        "pip install konlpy"
      ],
      "metadata": {
        "colab": {
          "base_uri": "https://localhost:8080/"
        },
        "id": "y1Y0oncB2a2r",
        "outputId": "522ef044-6a9a-4052-8203-57fd5277899e"
      },
      "execution_count": 19,
      "outputs": [
        {
          "output_type": "stream",
          "name": "stdout",
          "text": [
            "Collecting konlpy\n",
            "  Downloading konlpy-0.6.0-py2.py3-none-any.whl.metadata (1.9 kB)\n",
            "Collecting JPype1>=0.7.0 (from konlpy)\n",
            "  Downloading jpype1-1.5.2-cp311-cp311-manylinux_2_17_x86_64.manylinux2014_x86_64.whl.metadata (4.9 kB)\n",
            "Requirement already satisfied: lxml>=4.1.0 in /usr/local/lib/python3.11/dist-packages (from konlpy) (5.3.1)\n",
            "Requirement already satisfied: numpy>=1.6 in /usr/local/lib/python3.11/dist-packages (from konlpy) (2.0.2)\n",
            "Requirement already satisfied: packaging in /usr/local/lib/python3.11/dist-packages (from JPype1>=0.7.0->konlpy) (24.2)\n",
            "Downloading konlpy-0.6.0-py2.py3-none-any.whl (19.4 MB)\n",
            "\u001b[2K   \u001b[90m━━━━━━━━━━━━━━━━━━━━━━━━━━━━━━━━━━━━━━━━\u001b[0m \u001b[32m19.4/19.4 MB\u001b[0m \u001b[31m35.3 MB/s\u001b[0m eta \u001b[36m0:00:00\u001b[0m\n",
            "\u001b[?25hDownloading jpype1-1.5.2-cp311-cp311-manylinux_2_17_x86_64.manylinux2014_x86_64.whl (494 kB)\n",
            "\u001b[2K   \u001b[90m━━━━━━━━━━━━━━━━━━━━━━━━━━━━━━━━━━━━━━━━\u001b[0m \u001b[32m494.1/494.1 kB\u001b[0m \u001b[31m24.5 MB/s\u001b[0m eta \u001b[36m0:00:00\u001b[0m\n",
            "\u001b[?25hInstalling collected packages: JPype1, konlpy\n",
            "Successfully installed JPype1-1.5.2 konlpy-0.6.0\n"
          ]
        }
      ]
    },
    {
      "cell_type": "code",
      "source": [
        "import pandas as pd\n",
        "\n",
        "train_df = pd.read_csv('/content/drive/MyDrive/ESAA/OB/csv/ratings_train.txt', sep='\\t', encoding='utf-8')\n",
        "train_df.head(3)"
      ],
      "metadata": {
        "colab": {
          "base_uri": "https://localhost:8080/",
          "height": 143
        },
        "id": "uwoXsyhX2ckJ",
        "outputId": "4c0f42fe-d69f-44c5-e979-3bbcaaf9a549"
      },
      "execution_count": 21,
      "outputs": [
        {
          "output_type": "execute_result",
          "data": {
            "text/plain": [
              "         id                           document  label\n",
              "0   9976970                아 더빙.. 진짜 짜증나네요 목소리      0\n",
              "1   3819312  흠...포스터보고 초딩영화줄....오버연기조차 가볍지 않구나      1\n",
              "2  10265843                  너무재밓었다그래서보는것을추천한다      0"
            ],
            "text/html": [
              "\n",
              "  <div id=\"df-ad6480a6-1a3c-4dbf-a162-30c9edcd0245\" class=\"colab-df-container\">\n",
              "    <div>\n",
              "<style scoped>\n",
              "    .dataframe tbody tr th:only-of-type {\n",
              "        vertical-align: middle;\n",
              "    }\n",
              "\n",
              "    .dataframe tbody tr th {\n",
              "        vertical-align: top;\n",
              "    }\n",
              "\n",
              "    .dataframe thead th {\n",
              "        text-align: right;\n",
              "    }\n",
              "</style>\n",
              "<table border=\"1\" class=\"dataframe\">\n",
              "  <thead>\n",
              "    <tr style=\"text-align: right;\">\n",
              "      <th></th>\n",
              "      <th>id</th>\n",
              "      <th>document</th>\n",
              "      <th>label</th>\n",
              "    </tr>\n",
              "  </thead>\n",
              "  <tbody>\n",
              "    <tr>\n",
              "      <th>0</th>\n",
              "      <td>9976970</td>\n",
              "      <td>아 더빙.. 진짜 짜증나네요 목소리</td>\n",
              "      <td>0</td>\n",
              "    </tr>\n",
              "    <tr>\n",
              "      <th>1</th>\n",
              "      <td>3819312</td>\n",
              "      <td>흠...포스터보고 초딩영화줄....오버연기조차 가볍지 않구나</td>\n",
              "      <td>1</td>\n",
              "    </tr>\n",
              "    <tr>\n",
              "      <th>2</th>\n",
              "      <td>10265843</td>\n",
              "      <td>너무재밓었다그래서보는것을추천한다</td>\n",
              "      <td>0</td>\n",
              "    </tr>\n",
              "  </tbody>\n",
              "</table>\n",
              "</div>\n",
              "    <div class=\"colab-df-buttons\">\n",
              "\n",
              "  <div class=\"colab-df-container\">\n",
              "    <button class=\"colab-df-convert\" onclick=\"convertToInteractive('df-ad6480a6-1a3c-4dbf-a162-30c9edcd0245')\"\n",
              "            title=\"Convert this dataframe to an interactive table.\"\n",
              "            style=\"display:none;\">\n",
              "\n",
              "  <svg xmlns=\"http://www.w3.org/2000/svg\" height=\"24px\" viewBox=\"0 -960 960 960\">\n",
              "    <path d=\"M120-120v-720h720v720H120Zm60-500h600v-160H180v160Zm220 220h160v-160H400v160Zm0 220h160v-160H400v160ZM180-400h160v-160H180v160Zm440 0h160v-160H620v160ZM180-180h160v-160H180v160Zm440 0h160v-160H620v160Z\"/>\n",
              "  </svg>\n",
              "    </button>\n",
              "\n",
              "  <style>\n",
              "    .colab-df-container {\n",
              "      display:flex;\n",
              "      gap: 12px;\n",
              "    }\n",
              "\n",
              "    .colab-df-convert {\n",
              "      background-color: #E8F0FE;\n",
              "      border: none;\n",
              "      border-radius: 50%;\n",
              "      cursor: pointer;\n",
              "      display: none;\n",
              "      fill: #1967D2;\n",
              "      height: 32px;\n",
              "      padding: 0 0 0 0;\n",
              "      width: 32px;\n",
              "    }\n",
              "\n",
              "    .colab-df-convert:hover {\n",
              "      background-color: #E2EBFA;\n",
              "      box-shadow: 0px 1px 2px rgba(60, 64, 67, 0.3), 0px 1px 3px 1px rgba(60, 64, 67, 0.15);\n",
              "      fill: #174EA6;\n",
              "    }\n",
              "\n",
              "    .colab-df-buttons div {\n",
              "      margin-bottom: 4px;\n",
              "    }\n",
              "\n",
              "    [theme=dark] .colab-df-convert {\n",
              "      background-color: #3B4455;\n",
              "      fill: #D2E3FC;\n",
              "    }\n",
              "\n",
              "    [theme=dark] .colab-df-convert:hover {\n",
              "      background-color: #434B5C;\n",
              "      box-shadow: 0px 1px 3px 1px rgba(0, 0, 0, 0.15);\n",
              "      filter: drop-shadow(0px 1px 2px rgba(0, 0, 0, 0.3));\n",
              "      fill: #FFFFFF;\n",
              "    }\n",
              "  </style>\n",
              "\n",
              "    <script>\n",
              "      const buttonEl =\n",
              "        document.querySelector('#df-ad6480a6-1a3c-4dbf-a162-30c9edcd0245 button.colab-df-convert');\n",
              "      buttonEl.style.display =\n",
              "        google.colab.kernel.accessAllowed ? 'block' : 'none';\n",
              "\n",
              "      async function convertToInteractive(key) {\n",
              "        const element = document.querySelector('#df-ad6480a6-1a3c-4dbf-a162-30c9edcd0245');\n",
              "        const dataTable =\n",
              "          await google.colab.kernel.invokeFunction('convertToInteractive',\n",
              "                                                    [key], {});\n",
              "        if (!dataTable) return;\n",
              "\n",
              "        const docLinkHtml = 'Like what you see? Visit the ' +\n",
              "          '<a target=\"_blank\" href=https://colab.research.google.com/notebooks/data_table.ipynb>data table notebook</a>'\n",
              "          + ' to learn more about interactive tables.';\n",
              "        element.innerHTML = '';\n",
              "        dataTable['output_type'] = 'display_data';\n",
              "        await google.colab.output.renderOutput(dataTable, element);\n",
              "        const docLink = document.createElement('div');\n",
              "        docLink.innerHTML = docLinkHtml;\n",
              "        element.appendChild(docLink);\n",
              "      }\n",
              "    </script>\n",
              "  </div>\n",
              "\n",
              "\n",
              "<div id=\"df-8b84c764-f085-4f0d-b906-ee9475d884d1\">\n",
              "  <button class=\"colab-df-quickchart\" onclick=\"quickchart('df-8b84c764-f085-4f0d-b906-ee9475d884d1')\"\n",
              "            title=\"Suggest charts\"\n",
              "            style=\"display:none;\">\n",
              "\n",
              "<svg xmlns=\"http://www.w3.org/2000/svg\" height=\"24px\"viewBox=\"0 0 24 24\"\n",
              "     width=\"24px\">\n",
              "    <g>\n",
              "        <path d=\"M19 3H5c-1.1 0-2 .9-2 2v14c0 1.1.9 2 2 2h14c1.1 0 2-.9 2-2V5c0-1.1-.9-2-2-2zM9 17H7v-7h2v7zm4 0h-2V7h2v10zm4 0h-2v-4h2v4z\"/>\n",
              "    </g>\n",
              "</svg>\n",
              "  </button>\n",
              "\n",
              "<style>\n",
              "  .colab-df-quickchart {\n",
              "      --bg-color: #E8F0FE;\n",
              "      --fill-color: #1967D2;\n",
              "      --hover-bg-color: #E2EBFA;\n",
              "      --hover-fill-color: #174EA6;\n",
              "      --disabled-fill-color: #AAA;\n",
              "      --disabled-bg-color: #DDD;\n",
              "  }\n",
              "\n",
              "  [theme=dark] .colab-df-quickchart {\n",
              "      --bg-color: #3B4455;\n",
              "      --fill-color: #D2E3FC;\n",
              "      --hover-bg-color: #434B5C;\n",
              "      --hover-fill-color: #FFFFFF;\n",
              "      --disabled-bg-color: #3B4455;\n",
              "      --disabled-fill-color: #666;\n",
              "  }\n",
              "\n",
              "  .colab-df-quickchart {\n",
              "    background-color: var(--bg-color);\n",
              "    border: none;\n",
              "    border-radius: 50%;\n",
              "    cursor: pointer;\n",
              "    display: none;\n",
              "    fill: var(--fill-color);\n",
              "    height: 32px;\n",
              "    padding: 0;\n",
              "    width: 32px;\n",
              "  }\n",
              "\n",
              "  .colab-df-quickchart:hover {\n",
              "    background-color: var(--hover-bg-color);\n",
              "    box-shadow: 0 1px 2px rgba(60, 64, 67, 0.3), 0 1px 3px 1px rgba(60, 64, 67, 0.15);\n",
              "    fill: var(--button-hover-fill-color);\n",
              "  }\n",
              "\n",
              "  .colab-df-quickchart-complete:disabled,\n",
              "  .colab-df-quickchart-complete:disabled:hover {\n",
              "    background-color: var(--disabled-bg-color);\n",
              "    fill: var(--disabled-fill-color);\n",
              "    box-shadow: none;\n",
              "  }\n",
              "\n",
              "  .colab-df-spinner {\n",
              "    border: 2px solid var(--fill-color);\n",
              "    border-color: transparent;\n",
              "    border-bottom-color: var(--fill-color);\n",
              "    animation:\n",
              "      spin 1s steps(1) infinite;\n",
              "  }\n",
              "\n",
              "  @keyframes spin {\n",
              "    0% {\n",
              "      border-color: transparent;\n",
              "      border-bottom-color: var(--fill-color);\n",
              "      border-left-color: var(--fill-color);\n",
              "    }\n",
              "    20% {\n",
              "      border-color: transparent;\n",
              "      border-left-color: var(--fill-color);\n",
              "      border-top-color: var(--fill-color);\n",
              "    }\n",
              "    30% {\n",
              "      border-color: transparent;\n",
              "      border-left-color: var(--fill-color);\n",
              "      border-top-color: var(--fill-color);\n",
              "      border-right-color: var(--fill-color);\n",
              "    }\n",
              "    40% {\n",
              "      border-color: transparent;\n",
              "      border-right-color: var(--fill-color);\n",
              "      border-top-color: var(--fill-color);\n",
              "    }\n",
              "    60% {\n",
              "      border-color: transparent;\n",
              "      border-right-color: var(--fill-color);\n",
              "    }\n",
              "    80% {\n",
              "      border-color: transparent;\n",
              "      border-right-color: var(--fill-color);\n",
              "      border-bottom-color: var(--fill-color);\n",
              "    }\n",
              "    90% {\n",
              "      border-color: transparent;\n",
              "      border-bottom-color: var(--fill-color);\n",
              "    }\n",
              "  }\n",
              "</style>\n",
              "\n",
              "  <script>\n",
              "    async function quickchart(key) {\n",
              "      const quickchartButtonEl =\n",
              "        document.querySelector('#' + key + ' button');\n",
              "      quickchartButtonEl.disabled = true;  // To prevent multiple clicks.\n",
              "      quickchartButtonEl.classList.add('colab-df-spinner');\n",
              "      try {\n",
              "        const charts = await google.colab.kernel.invokeFunction(\n",
              "            'suggestCharts', [key], {});\n",
              "      } catch (error) {\n",
              "        console.error('Error during call to suggestCharts:', error);\n",
              "      }\n",
              "      quickchartButtonEl.classList.remove('colab-df-spinner');\n",
              "      quickchartButtonEl.classList.add('colab-df-quickchart-complete');\n",
              "    }\n",
              "    (() => {\n",
              "      let quickchartButtonEl =\n",
              "        document.querySelector('#df-8b84c764-f085-4f0d-b906-ee9475d884d1 button');\n",
              "      quickchartButtonEl.style.display =\n",
              "        google.colab.kernel.accessAllowed ? 'block' : 'none';\n",
              "    })();\n",
              "  </script>\n",
              "</div>\n",
              "\n",
              "    </div>\n",
              "  </div>\n"
            ],
            "application/vnd.google.colaboratory.intrinsic+json": {
              "type": "dataframe",
              "variable_name": "train_df"
            }
          },
          "metadata": {},
          "execution_count": 21
        }
      ]
    },
    {
      "cell_type": "markdown",
      "source": [
        "1: 긍정, 0: 부정 감성"
      ],
      "metadata": {
        "id": "3kDWzaiPrRS5"
      }
    },
    {
      "cell_type": "code",
      "source": [
        "train_df['label'].value_counts()"
      ],
      "metadata": {
        "colab": {
          "base_uri": "https://localhost:8080/",
          "height": 178
        },
        "id": "HYNR6GHL2eBc",
        "outputId": "347f3029-5bac-463e-cf98-3e5a5412b939"
      },
      "execution_count": 22,
      "outputs": [
        {
          "output_type": "execute_result",
          "data": {
            "text/plain": [
              "label\n",
              "0    75173\n",
              "1    74827\n",
              "Name: count, dtype: int64"
            ],
            "text/html": [
              "<div>\n",
              "<style scoped>\n",
              "    .dataframe tbody tr th:only-of-type {\n",
              "        vertical-align: middle;\n",
              "    }\n",
              "\n",
              "    .dataframe tbody tr th {\n",
              "        vertical-align: top;\n",
              "    }\n",
              "\n",
              "    .dataframe thead th {\n",
              "        text-align: right;\n",
              "    }\n",
              "</style>\n",
              "<table border=\"1\" class=\"dataframe\">\n",
              "  <thead>\n",
              "    <tr style=\"text-align: right;\">\n",
              "      <th></th>\n",
              "      <th>count</th>\n",
              "    </tr>\n",
              "    <tr>\n",
              "      <th>label</th>\n",
              "      <th></th>\n",
              "    </tr>\n",
              "  </thead>\n",
              "  <tbody>\n",
              "    <tr>\n",
              "      <th>0</th>\n",
              "      <td>75173</td>\n",
              "    </tr>\n",
              "    <tr>\n",
              "      <th>1</th>\n",
              "      <td>74827</td>\n",
              "    </tr>\n",
              "  </tbody>\n",
              "</table>\n",
              "</div><br><label><b>dtype:</b> int64</label>"
            ]
          },
          "metadata": {},
          "execution_count": 22
        }
      ]
    },
    {
      "cell_type": "code",
      "source": [
        "from tkinter.constants import X\n",
        "import re\n",
        "\n",
        "train_df = train_df.fillna(' ')\n",
        "\n",
        "# 정규 표현식 re를 이용해 숫자를 공백으로 변경(정규 표현식으로 \\d는 숫자를 의미함.)\n",
        "train_df['document'] = train_df['document'].apply(lambda x: re.sub(r\"\\d+\", \" \", x))\n",
        "\n",
        "# 테스트 데이터 세트를 로딩하고 동일하게 Null 및 숫자를 공백으로 변환\n",
        "test_df = pd.read_csv('/content/drive/MyDrive/ESAA/OB/csv/ratings_test.txt', sep='\\t', encoding='utf-8')\n",
        "test_df = test_df.fillna(' ')\n",
        "test_df['document'] = test_df['document'].apply(lambda x: re.sub(r\"\\d+\", \" \", x))"
      ],
      "metadata": {
        "id": "_h8JGEwb2fK5"
      },
      "execution_count": 23,
      "outputs": []
    },
    {
      "cell_type": "code",
      "source": [
        "# id칼럼 삭제\n",
        "train_df.drop('id', axis=1, inplace=True)\n",
        "test_df.drop('id', axis=1, inplace=True)"
      ],
      "metadata": {
        "id": "_39rrsyu2gyg"
      },
      "execution_count": 24,
      "outputs": []
    },
    {
      "cell_type": "code",
      "source": [
        "from konlpy.tag import Twitter\n",
        "\n",
        "twitter = Twitter()\n",
        "def tw_tokenizer(text):\n",
        "    # 입력 인자로 들어온 텍스트를 형태소 단어로 토큰화해 리스트 형태로 반환\n",
        "    tokens_ko = twitter.morphs(text)\n",
        "    return tokens_ko"
      ],
      "metadata": {
        "colab": {
          "base_uri": "https://localhost:8080/"
        },
        "id": "bnq2RT_Y2hrp",
        "outputId": "1ec9df2c-da60-4079-8d63-dafd347ace6e"
      },
      "execution_count": 25,
      "outputs": [
        {
          "output_type": "stream",
          "name": "stderr",
          "text": [
            "/usr/local/lib/python3.11/dist-packages/konlpy/tag/_okt.py:17: UserWarning: \"Twitter\" has changed to \"Okt\" since KoNLPy v0.4.5.\n",
            "  warn('\"Twitter\" has changed to \"Okt\" since KoNLPy v0.4.5.')\n"
          ]
        }
      ]
    },
    {
      "cell_type": "code",
      "source": [
        "from sklearn.feature_extraction.text import TfidfVectorizer\n",
        "from sklearn.linear_model import LogisticRegression\n",
        "from sklearn.model_selection import GridSearchCV\n",
        "\n",
        "# Twitter 객체의 morphs() 객체를 이용한 tokenizer 사용. ngram_range는 (1,2)\n",
        "tfidf_vect = TfidfVectorizer(tokenizer=tw_tokenizer, ngram_range=(1,2), min_df=3, max_df=0.9)\n",
        "tfidf_vect.fit(train_df['document'])\n",
        "tfidf_matrix_train = tfidf_vect.transform(train_df['document'])"
      ],
      "metadata": {
        "colab": {
          "base_uri": "https://localhost:8080/"
        },
        "id": "bQnyrvFO2i4d",
        "outputId": "56d7e754-01aa-4357-ac40-9acb8b9cc234"
      },
      "execution_count": 26,
      "outputs": [
        {
          "output_type": "stream",
          "name": "stderr",
          "text": [
            "/usr/local/lib/python3.11/dist-packages/sklearn/feature_extraction/text.py:517: UserWarning: The parameter 'token_pattern' will not be used since 'tokenizer' is not None'\n",
            "  warnings.warn(\n"
          ]
        }
      ]
    },
    {
      "cell_type": "code",
      "source": [
        "# 로지스틱 회귀를 이용해 감성 분석 분류 수행.\n",
        "lg_clf = LogisticRegression(random_state=0, solver='liblinear')\n",
        "\n",
        "# 파라미터 C 최적화를 위해 GridSearchCV를 이용\n",
        "params = {'C': [1, 3.5, 4.5, 5.5, 10]}\n",
        "grid_cv = GridSearchCV(lg_clf, param_grid=params, cv=3, scoring='accuracy', verbose=1)\n",
        "grid_cv.fit(tfidf_matrix_train, train_df['label'])\n",
        "print(grid_cv.best_params_, round(grid_cv.best_score_, 4))"
      ],
      "metadata": {
        "colab": {
          "base_uri": "https://localhost:8080/"
        },
        "id": "jDzPauvE2kil",
        "outputId": "229169db-8acc-4d2c-8f4d-bf26463cff54"
      },
      "execution_count": 27,
      "outputs": [
        {
          "output_type": "stream",
          "name": "stdout",
          "text": [
            "Fitting 3 folds for each of 5 candidates, totalling 15 fits\n",
            "{'C': 3.5} 0.8593\n"
          ]
        }
      ]
    },
    {
      "cell_type": "code",
      "source": [
        "from sklearn.metrics import accuracy_score\n",
        "\n",
        "# 학습 데이터를 적용한 TfidfVectorizer를 이용해 테스트 데이터를 TF-IDF 값으로 피처 변환\n",
        "tfidf_matrix_test = tfidf_vect.transform(test_df['document'])\n",
        "\n",
        "# classifier는 GridSearchCV에서 최적 파라미터로 학습된 classifier를 그대로 이용\n",
        "best_estimator_ = grid_cv.best_estimator_\n",
        "preds = best_estimator_.predict(tfidf_matrix_test)\n",
        "\n",
        "print('Logistic Regression 정확도: ', accuracy_score(test_df['label'], preds))"
      ],
      "metadata": {
        "colab": {
          "base_uri": "https://localhost:8080/"
        },
        "id": "1CtE4kOr2lzJ",
        "outputId": "1979cbe8-b4e0-4901-8913-a141da7025fb"
      },
      "execution_count": 28,
      "outputs": [
        {
          "output_type": "stream",
          "name": "stdout",
          "text": [
            "Logistic Regression 정확도:  0.86172\n"
          ]
        }
      ]
    }
  ]
}